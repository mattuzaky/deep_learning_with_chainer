{
 "cells": [
  {
   "cell_type": "markdown",
   "metadata": {},
   "source": [
    "# Chainerの利用例"
   ]
  },
  {
   "cell_type": "code",
   "execution_count": 1,
   "metadata": {
    "collapsed": false
   },
   "outputs": [
    {
     "data": {
      "text/html": [
       "<style>.container{width:100% !important;}</style>"
      ],
      "text/plain": [
       "<IPython.core.display.HTML object>"
      ]
     },
     "metadata": {},
     "output_type": "display_data"
    }
   ],
   "source": [
    "from IPython.core.display import display, HTML\n",
    "display(HTML(\"<style>.container{width:100% !important;}</style>\"))\n",
    "\n",
    "import numpy as np\n",
    "import chainer\n",
    "from chainer import cuda, Function, gradient_check, Variable, optimizers, serializers, utils\n",
    "from chainer import Link, Chain, ChainList\n",
    "import chainer.functions as F\n",
    "import chainer.links as L"
   ]
  },
  {
   "cell_type": "markdown",
   "metadata": {},
   "source": [
    "### irisデータセット"
   ]
  },
  {
   "cell_type": "code",
   "execution_count": 11,
   "metadata": {
    "collapsed": true
   },
   "outputs": [],
   "source": [
    "from sklearn import datasets\n",
    "\n",
    "iris = datasets.load_iris()\n",
    "X = iris.data.astype(np.float32)\n",
    "Y = iris.target\n",
    "N = Y.size\n",
    "\n",
    "Y2 = np.zeros(3 * N).reshape(N, 3).astype(np.float32)\n",
    "for i in range(N):\n",
    "    # one-hotベクトルに変換\n",
    "    Y2[i, Y[i]] = 1.0\n",
    "    \n",
    "index = np.arange(N)\n",
    "xtrain = X[index[index % 2 != 0], :]\n",
    "ytrain = Y2[index[index % 2 != 0], :]\n",
    "xtest = X[index[index % 2 == 0], :]\n",
    "yans = Y[index[index % 2 == 0]]"
   ]
  },
  {
   "cell_type": "markdown",
   "metadata": {},
   "source": [
    "### IrisChainクラス"
   ]
  },
  {
   "cell_type": "code",
   "execution_count": 40,
   "metadata": {
    "collapsed": true
   },
   "outputs": [],
   "source": [
    "class IrisChain(Chain):\n",
    "    def __init__(self):\n",
    "        super(IrisChain, self).__init__(\n",
    "            l1 = L.Linear(4, 6),\n",
    "            l2 = L.Linear(6, 3)\n",
    "        )\n",
    "    \n",
    "    def __call__(self, x, y):\n",
    "        return F.mean_squared_error(self.fwd(x), y)\n",
    "    \n",
    "    def fwd(self, x):\n",
    "        h1 = F.sigmoid(self.l1(x))\n",
    "        h2 = self.l2(h1)\n",
    "        return h2"
   ]
  },
  {
   "cell_type": "markdown",
   "metadata": {},
   "source": [
    "パラメータの学習"
   ]
  },
  {
   "cell_type": "code",
   "execution_count": 41,
   "metadata": {
    "collapsed": false
   },
   "outputs": [],
   "source": [
    "model = IrisChain()\n",
    "optimizer = optimizers.SGD()\n",
    "optimizer.setup(model)\n",
    "for i in range(10000):\n",
    "    x = Variable(xtrain)\n",
    "    y = Variable(ytrain)\n",
    "    model.zerograds()\n",
    "    loss = model(x, y)\n",
    "    loss.backward()\n",
    "    optimizer.update()"
   ]
  },
  {
   "cell_type": "code",
   "execution_count": 42,
   "metadata": {
    "collapsed": false
   },
   "outputs": [],
   "source": [
    "xt = Variable(xtest)\n",
    "yt = model.fwd(xt)\n",
    "ans = yt.data\n",
    "nrow, ncol = ans.shape\n",
    "ok = 0\n",
    "for i in range(nrow):\n",
    "    cls = np.argmax(ans[i, :])\n",
    "    if cls == yans[i]:\n",
    "        ok += 1"
   ]
  },
  {
   "cell_type": "code",
   "execution_count": 43,
   "metadata": {
    "collapsed": false
   },
   "outputs": [
    {
     "name": "stdout",
     "output_type": "stream",
     "text": [
      "71 / 75 = 0.946667\n"
     ]
    }
   ],
   "source": [
    "print(\"%d / %d = %f\" % (ok, nrow, (ok / nrow)))"
   ]
  },
  {
   "cell_type": "markdown",
   "metadata": {},
   "source": [
    "### ミニバッチ"
   ]
  },
  {
   "cell_type": "code",
   "execution_count": 30,
   "metadata": {
    "collapsed": true
   },
   "outputs": [],
   "source": [
    "n = 75\n",
    "bs = 25\n",
    "for j in range(5000):\n",
    "    sffindx = np.random.permutation(n)\n",
    "    for i in range(0, n, bs):\n",
    "        x = Variable(xtrain[sffindx[i: (i + bs) if (i + bs) < n else n]])\n",
    "        y = Variable(ytrain[sffindx[i: (i + bs) if (i + bs) < n else n]])\n",
    "        model.zerograds()\n",
    "        loss = model(x, y)\n",
    "        loss.backward()\n",
    "        optimizer.update()"
   ]
  },
  {
   "cell_type": "markdown",
   "metadata": {},
   "source": [
    "### 誤差の累積"
   ]
  },
  {
   "cell_type": "code",
   "execution_count": 32,
   "metadata": {
    "collapsed": false
   },
   "outputs": [],
   "source": [
    "n = 75\n",
    "bs = 25\n",
    "for j in range(2000):\n",
    "    accum_loss = None\n",
    "    sffindx = np.random.permutation(n)\n",
    "    for i in range(0, n, bs):\n",
    "        x = Variable(xtrain[sffindx[i: (i + bs) if (i + bs) < n else n]])\n",
    "        y = Variable(ytrain[sffindx[i: (i + bs) if (i + bs) < n else n]])\n",
    "        model.zerograds()\n",
    "        loss = model(x, y)\n",
    "        accum_loss = loss if accum_loss is None else accum_loss + loss\n",
    "        loss.backward()\n",
    "        optimizer.update()"
   ]
  },
  {
   "cell_type": "markdown",
   "metadata": {},
   "source": [
    "### Softmax"
   ]
  },
  {
   "cell_type": "code",
   "execution_count": 33,
   "metadata": {
    "collapsed": true
   },
   "outputs": [],
   "source": [
    "class IrisChain(Chain):\n",
    "    def __init__(self):\n",
    "        super(IrisChain, self).__init__(\n",
    "            l1 = L.Linear(4, 6),\n",
    "            l2 = L.Linear(6, 3)\n",
    "        )\n",
    "    \n",
    "    def __call__(self, x, y):\n",
    "        return F.mean_squared_error(self.fwd(x), y)\n",
    "    \n",
    "    def fwd(self, x):\n",
    "        h1 = F.sigmoid(self.l1(x))\n",
    "        h2 = self.l2(h1)\n",
    "        h3 = F.softmax(h2)\n",
    "        return h3"
   ]
  },
  {
   "cell_type": "code",
   "execution_count": 38,
   "metadata": {
    "collapsed": false
   },
   "outputs": [
    {
     "data": {
      "text/plain": [
       "array([ 0.84821469,  0.13467893,  0.0171064 ], dtype=float32)"
      ]
     },
     "execution_count": 38,
     "metadata": {},
     "output_type": "execute_result"
    }
   ],
   "source": [
    "ans[0]"
   ]
  },
  {
   "cell_type": "markdown",
   "metadata": {},
   "source": [
    "### softmax cross entropy"
   ]
  },
  {
   "cell_type": "code",
   "execution_count": 44,
   "metadata": {
    "collapsed": false
   },
   "outputs": [],
   "source": [
    "X = iris.data.astype(np.float32)\n",
    "Y = iris.target.astype(np.int32)\n",
    "N = Y.size\n",
    "\n",
    "index = np.arange(N)\n",
    "xtrain = X[index[index % 2 != 0], :]\n",
    "ytrain = Y[index[index % 2 != 0]]\n",
    "xtest = X[index[index % 2 == 0], :]\n",
    "yans = Y[index[index % 2 == 0]]"
   ]
  },
  {
   "cell_type": "code",
   "execution_count": 46,
   "metadata": {
    "collapsed": false
   },
   "outputs": [],
   "source": [
    "class IrisChain(Chain):\n",
    "    def __init__(self):\n",
    "        super(IrisChain, self).__init__(\n",
    "            l1 = L.Linear(4, 6),\n",
    "            l2 = L.Linear(6, 3)\n",
    "        )\n",
    "    \n",
    "    def __call__(self, x, y):\n",
    "        return F.softmax_cross_entropy(self.fwd(x), y)\n",
    "    \n",
    "    def fwd(self, x):\n",
    "        h1 = F.sigmoid(self.l1(x))\n",
    "        h2 = self.l2(h1)\n",
    "        return h2"
   ]
  },
  {
   "cell_type": "markdown",
   "metadata": {},
   "source": [
    "### ロジスティック回帰"
   ]
  },
  {
   "cell_type": "code",
   "execution_count": 47,
   "metadata": {
    "collapsed": true
   },
   "outputs": [],
   "source": [
    "class IrisRogi(Chain):\n",
    "    def __init__(self):\n",
    "        super(IrisRogi, self).__init__(\n",
    "            l1 = L.Linear(4, 3)\n",
    "        )\n",
    "    \n",
    "    def __call__(self, x, y):\n",
    "        return F.mean_squared_error(self.fwd(x), y)\n",
    "    \n",
    "    def fwd(self, x):\n",
    "        return F.softmax(self.l1(x))"
   ]
  },
  {
   "cell_type": "code",
   "execution_count": 49,
   "metadata": {
    "collapsed": false
   },
   "outputs": [
    {
     "data": {
      "text/plain": [
       "<chainer.optimizers.adam.Adam at 0x1133cdac8>"
      ]
     },
     "execution_count": 49,
     "metadata": {},
     "output_type": "execute_result"
    }
   ],
   "source": [
    "model = IrisRogi()\n",
    "optimizer = optimizers.Adam()\n",
    "optimizer.setup(model)"
   ]
  }
 ],
 "metadata": {
  "kernelspec": {
   "display_name": "Python 3",
   "language": "python",
   "name": "python3"
  },
  "language_info": {
   "codemirror_mode": {
    "name": "ipython",
    "version": 3
   },
   "file_extension": ".py",
   "mimetype": "text/x-python",
   "name": "python",
   "nbconvert_exporter": "python",
   "pygments_lexer": "ipython3",
   "version": "3.6.0"
  }
 },
 "nbformat": 4,
 "nbformat_minor": 2
}
